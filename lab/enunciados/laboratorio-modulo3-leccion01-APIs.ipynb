{
 "cells": [
  {
   "cell_type": "markdown",
   "metadata": {},
   "source": [
    "<div style=\"text-align: center;\">\n",
    "  <img src=\"https://github.com/Hack-io-Data/Imagenes/blob/main/01-LogosHackio/logo_naranja@4x.png?raw=true\" alt=\"esquema\" />\n",
    "</div>"
   ]
  },
  {
   "cell_type": "markdown",
   "metadata": {},
   "source": [
    "º# Laboratorio API's \n",
    "\n",
    "SetMagic Productions es una empresa especializada en la provisión de servicios integrales para la realización de rodajes cinematográficos y audiovisuales. Nos dedicamos a facilitar tanto el atrezzo necesario para las producciones como los lugares idóneos para llevar a cabo los rodajes, ya sea en entornos al aire libre o en interiores.\n",
    "\n",
    "**Servicios Ofrecidos:**\n",
    "\n",
    "- **Atrezzo Creativo:** Contamos con un extenso catálogo de atrezzo que abarca desde accesorios hasta muebles y objetos temáticos para ambientar cualquier tipo de  escena.\n",
    "\n",
    "- **Locaciones Únicas:** Nuestra empresa ofrece una amplia selección de locaciones, que incluyen desde escenarios naturales como playas, bosques y montañas, hasta espacios interiores como estudios, casas históricas y edificios emblemáticos.\n",
    "\n",
    "- **Servicios de Producción:** Además de proporcionar atrezzo y locaciones, también ofrecemos servicios de producción audiovisual, incluyendo equipos de filmación, personal técnico y servicios de postproducción.\n",
    "\n",
    "**Herramientas y Tecnologías:**\n",
    "\n",
    "Para recopilar información sobre nuevas locaciones y tendencias en atrezzo, utilizamos herramientas de web scraping como Beautiful Soup y Selenium para extraer datos de sitios web relevantes y redes sociales especializadas en cine y producción audiovisual. También integramos APIs de plataformas de alquiler de locaciones y bases de datos de atrezzo para acceder a información actualizada y detallada.\n",
    "\n",
    "**Almacenamiento de Datos:**\n",
    "\n",
    "La información recopilada mediante web scraping y APIs se almacena en una base de datos no relacional MongoDB. Esta base de datos nos permite organizar eficientemente la información sobre locaciones, atrezzo, clientes y proyectos en curso, facilitando su acceso y gestión.\n",
    "\n",
    "**Objetivo:**\n",
    "\n",
    "Nuestro objetivo principal es proporcionar a nuestros clientes una experiencia fluida y personalizada en la búsqueda y selección de locaciones y atrezzo para sus proyectos audiovisuales. Utilizando tecnologías avanzadas y una amplia red de contactos en la industria, nos esforzamos por ofrecer soluciones creativas y de alta calidad que satisfagan las necesidades específicas de cada producción.\n",
    "\n",
    "\n",
    "# Lab: APIs y Obtención de Datos de Localizaciones para Rodajes\n",
    "\n",
    "En este laboratorio aprenderás a utilizar APIs para obtener información sobre localizaciones de rodaje en la Comunidad de Madrid. A lo largo de este ejercicio, implementarás funciones que te permitirán extraer coordenadas, buscar lugares de interés y almacenar la información en un formato que puedas reutilizar.\n",
    "\n",
    "## Objetivo\n",
    "\n",
    "Obtener información geográfica y sobre posibles localizaciones para rodajes en diferentes municipios de la Comunidad de Madrid, utilizando APIs como **Geopy** y **Foursquare**.\n",
    "\n",
    "### Paso 1: Obtener Coordenadas de los Municipios\n",
    "\n",
    "Primero, necesitas obtener las coordenadas geográficas (latitud y longitud) de cada municipio en la Comunidad de Madrid. Para esto, utilizarás la biblioteca **Geopy** y su funcionalidad para geocodificar. La lista de los municipios de la Comunidad de Madrid es:\n",
    "\n",
    "```python\n",
    "lista_municipios = ['acebeda-la', 'ajalvir', 'alameda-del-valle', 'alamo-el', 'alcala-de-henares', 'alcobendas', 'alcorcon', 'aldea-del-fresno', 'algete', 'alpedrete', 'ambite', 'anchuelo', 'aranjuez', 'arganda-del-rey', 'arroyomolinos', 'atazar-el', 'batres', 'becerril-de-la-sierra', 'belmonte-de-tajo', 'berrueco-el', 'berzosa-del-lozoya', 'boadilla-del-monte', 'boalo-el', 'braojos', 'brea-de-tajo', 'brunete', 'buitrago-del-lozoya', 'bustarviejo', 'cabanillas-de-la-sierra', 'cabrera-la', 'cadalso-de-los-vidrios', 'camarma-de-esteruelas', 'campo-real', 'canencia', 'carabana', 'casarrubuelos', 'cenicientos', 'cercedilla', 'cervera-de-buitrago', 'chapineria', 'chinchon', 'ciempozuelos', 'cobena', 'collado-mediano', 'collado-villalba', 'colmenar-del-arroyo', 'colmenar-de-oreja', 'colmenarejo', 'colmenar-viejo', 'corpa', 'coslada', 'cubas-de-la-sagra', 'daganzo-de-arriba', 'escorial-el', 'estremera', 'fresnedillas-de-la-oliva', 'fresno-de-torote', 'fuenlabrada', 'fuente-el-saz-de-jarama', 'fuentiduena-de-tajo', 'galapagar', 'garganta-de-los-montes', 'gargantilla-del-lozoya-y-pinilla-de-buitrago', 'gascones', 'getafe', 'grinon', 'guadalix-de-la-sierra', 'guadarrama', 'hiruela-la', 'horcajo-de-la-sierra-aoslos', 'horcajuelo-de-la-sierra', 'hoyo-de-manzanares', 'humanes-de-madrid', 'leganes', 'loeches', 'lozoya', 'lozoyuela-navas-sieteiglesias', 'madarcos', 'madrid', 'majadahonda', 'manzanares-el-real', 'meco', 'mejorada-del-campo', 'miraflores-de-la-sierra', 'molar-el', 'molinos-los', 'montejo-de-la-sierra', 'moraleja-de-enmedio', 'moralzarzal', 'morata-de-tajuna', 'mostoles', 'navacerrada', 'navalafuente', 'navalagamella', 'navalcarnero', 'navarredonda-y-san-mames', 'navas-del-rey', 'nuevo-baztan', 'olmeda-de-las-fuentes', 'orusco-de-tajuna', 'paracuellos-de-jarama', 'parla', 'patones', 'pedrezuela', 'pelayos-de-la-presa', 'perales-de-tajuna', 'pezuela-de-las-torres', 'pinilla-del-valle', 'pinto', 'pinuecar-gandullas', 'pozuelo-de-alarcon', 'pozuelo-del-rey', 'pradena-del-rincon', 'puebla-de-la-sierra', 'puentes-viejas-manjiron', 'quijorna', 'rascafria', 'reduena', 'ribatejada', 'rivas-vaciamadrid', 'robledillo-de-la-jara', 'robledo-de-chavela', 'robregordo', 'rozas-de-madrid-las', 'rozas-de-puerto-real', 'san-agustin-del-guadalix', 'san-fernando-de-henares', 'san-lorenzo-de-el-escorial', 'san-martin-de-la-vega', 'san-martin-de-valdeiglesias', 'san-sebastian-de-los-reyes', 'santa-maria-de-la-alameda', 'santorcaz', 'santos-de-la-humosa-los', 'serna-del-monte-la', 'serranillos-del-valle', 'sevilla-la-nueva', 'somosierra', 'soto-del-real', 'talamanca-de-jarama', 'tielmes', 'titulcia', 'torrejon-de-ardoz', 'torrejon-de-la-calzada', 'torrejon-de-velasco', 'torrelaguna', 'torrelodones', 'torremocha-de-jarama', 'torres-de-la-alameda', 'tres-cantos', 'valdaracete', 'valdeavero', 'valdelaguna', 'valdemanco', 'valdemaqueda', 'valdemorillo', 'valdemoro', 'valdeolmos-alalpardo', 'valdepielagos', 'valdetorres-de-jarama', 'valdilecha', 'valverde-de-alcala', 'velilla-de-san-antonio', 'vellon-el', 'venturada', 'villaconejos', 'villa-del-prado', 'villalbilla', 'villamanrique-de-tajo', 'villamanta', 'villamantilla', 'villanueva-de-la-canada', 'villanueva-del-pardillo', 'villanueva-de-perales', 'villar-del-olmo', 'villarejo-de-salvanes', 'villaviciosa-de-odon', 'villavieja-del-lozoya', 'zarzalejo']\n",
    "```\n",
    "\n",
    "1. Instalar y configurar la biblioteca de Geopy para realizar la geocodificación.\n",
    "\n",
    "2. Crear una función que reciba una lista de municipios y devuelva un DataFrame con los nombres de los municipios y sus respectivas coordenadas (latitud y longitud).\n",
    "\n",
    "3. Validar los datos obtenidos para verificar si hay municipios sin coordenadas y resolver posibles problemas, como nombres incorrectos o faltantes.\n",
    "\n",
    "\n",
    "### Paso 2: Buscar Localizaciones Relevantes con la API de Foursquare\n",
    "\n",
    "Una vez obtenidas las coordenadas de los municipios, utilizarás la API de Foursquare para buscar servicios que pueden ser importantes en un rodaje (ej: parques, edificios históricos, plazas).\n",
    "\n",
    "En este punto es importante que reflexiones sobre los servicios o establecimientos clave que considerarías relevantes para establecer una empresa de servicios para rodajes. No hay una única respuesta correcta, ya que depende de la estrategia y visión que tengas. Al menos deberás elegir 5 tipos de servicios que puedan influir en la decisión de ubicación. Ejemplos de estos servicios pueden incluir:\n",
    "\n",
    "- Parques o áreas verdes para rodajes exteriores.\n",
    "\n",
    "- Centros comerciales que faciliten acceso a diferentes necesidades logísticas.\n",
    "\n",
    "- Bares o restaurantes para el catering del equipo.\n",
    "\n",
    "- Tiendas especializadas en disfraces o vestuario.\n",
    "\n",
    "- Alquileres de equipos audiovisuales.\n",
    "\n",
    "Es crucial entender que esta selección depende de la naturaleza y enfoque de la empresa. Tal vez para algunos proyectos sea más importante estar cerca de áreas residenciales o lugares con buena conexión de transporte. Otros proyectos podrían priorizar la proximidad a tiendas especializadas o servicios de entretenimiento. Es vuestra decisión! \n",
    "\n",
    "1. Crear una cuenta en [Foursquare](https://location.foursquare.com/developer/) y obtener la API Key necesaria para realizar las solicitudes. Leer la documentación para entender como funciona. \n",
    "\n",
    "2. Definir una función para realizar búsquedas de lugares cercanos a las coordenadas de cada municipio. Esta función debe permitir filtrar los resultados por categoría y distancia.\n",
    "\n",
    "3. Explorar las categorías disponibles en Foursquare y seleccionar aquellas que se ajusten a los servicios clave que decidáis para vuestra estrategia.\n",
    "\n",
    "4. Aplicar la función de búsqueda a cada municipio, recopilando información sobre los lugares relevantes.\n",
    "\n",
    "Recuerda que la elección de categorías es un punto de análisis clave en este ejercicio, ya que la información que obtendréis será fundamental para decidir la ubicación ideal para vuestra empresa. Aseguraos de justificar vuestras decisiones y considerar diferentes perspectivas. Para cada una de los municipios deberás sacar la información de todos los servicios elegidos. \n",
    "\n",
    "### Paso 3: Limpieza de la Información\n",
    "\n",
    "La información obtenida de Foursquare puede incluir muchos detalles innecesarios. Tu objetivo es quedarte únicamente con los campos relevantes para tu análisis (nombre, dirección, coordenadas, tipo de lugar, etc.).\n",
    "\n",
    "\n",
    "1. Explorar la estructura de los datos obtenidos para identificar los campos importantes y limpiar la información.\n",
    "\n",
    "2. Eliminar duplicados y valores nulos para garantizar la consistencia y calidad de los datos.\n",
    "\n",
    "### Paso 4: Almacenamiento de los Datos\n",
    "\n",
    "Una vez que tengas la información limpia y organizada, almacénala en un archivo CSV que puedas reutilizar en futuros análisis.\n"
   ]
  },
  {
   "cell_type": "code",
   "execution_count": 8,
   "metadata": {},
   "outputs": [
    {
     "name": "stdout",
     "output_type": "stream",
     "text": [
      "Requirement already satisfied: geopy in c:\\users\\víctor\\anaconda3\\lib\\site-packages (2.4.1)\n",
      "Requirement already satisfied: geographiclib<3,>=1.52 in c:\\users\\víctor\\anaconda3\\lib\\site-packages (from geopy) (2.0)\n"
     ]
    }
   ],
   "source": [
    "!pip install geopy\n",
    "from geopy.geocoders import Nominatim"
   ]
  },
  {
   "cell_type": "code",
   "execution_count": 9,
   "metadata": {},
   "outputs": [],
   "source": [
    "lista_municipios = ['acebeda-la', 'ajalvir', 'alameda-del-valle', 'alamo-el', 'alcala-de-henares', 'alcobendas', 'alcorcon', 'aldea-del-fresno', 'algete', 'alpedrete', 'ambite', 'anchuelo', 'aranjuez', 'arganda-del-rey', 'arroyomolinos', 'atazar-el', 'batres', 'becerril-de-la-sierra', 'belmonte-de-tajo', 'berrueco-el', 'berzosa-del-lozoya', 'boadilla-del-monte', 'boalo-el', 'braojos', 'brea-de-tajo', 'brunete', 'buitrago-del-lozoya', 'bustarviejo', 'cabanillas-de-la-sierra', 'cabrera-la', 'cadalso-de-los-vidrios', 'camarma-de-esteruelas', 'campo-real', 'canencia', 'carabana', 'casarrubuelos', 'cenicientos', 'cercedilla', 'cervera-de-buitrago', 'chapineria', 'chinchon', 'ciempozuelos', 'cobena', 'collado-mediano', 'collado-villalba', 'colmenar-del-arroyo', 'colmenar-de-oreja', 'colmenarejo', 'colmenar-viejo', 'corpa', 'coslada', 'cubas-de-la-sagra', 'daganzo-de-arriba', 'escorial-el', 'estremera', 'fresnedillas-de-la-oliva', 'fresno-de-torote', 'fuenlabrada', 'fuente-el-saz-de-jarama', 'fuentiduena-de-tajo', 'galapagar', 'garganta-de-los-montes', 'gargantilla-del-lozoya-y-pinilla-de-buitrago', 'gascones', 'getafe', 'grinon', 'guadalix-de-la-sierra', 'guadarrama', 'hiruela-la', 'horcajo-de-la-sierra-aoslos', 'horcajuelo-de-la-sierra', 'hoyo-de-manzanares', 'humanes-de-madrid', 'leganes', 'loeches', 'lozoya', 'lozoyuela-navas-sieteiglesias', 'madarcos', 'madrid', 'majadahonda', 'manzanares-el-real', 'meco', 'mejorada-del-campo', 'miraflores-de-la-sierra', 'molar-el', 'molinos-los', 'montejo-de-la-sierra', 'moraleja-de-enmedio', 'moralzarzal', 'morata-de-tajuna', 'mostoles', 'navacerrada', 'navalafuente', 'navalagamella', 'navalcarnero', 'navarredonda-y-san-mames', 'navas-del-rey', 'nuevo-baztan', 'olmeda-de-las-fuentes', 'orusco-de-tajuna', 'paracuellos-de-jarama', 'parla', 'patones', 'pedrezuela', 'pelayos-de-la-presa', 'perales-de-tajuna', 'pezuela-de-las-torres', 'pinilla-del-valle', 'pinto', 'pinuecar-gandullas', 'pozuelo-de-alarcon', 'pozuelo-del-rey', 'pradena-del-rincon', 'puebla-de-la-sierra', 'puentes-viejas-manjiron', 'quijorna', 'rascafria', 'reduena', 'ribatejada', 'rivas-vaciamadrid', 'robledillo-de-la-jara', 'robledo-de-chavela', 'robregordo', 'rozas-de-madrid-las', 'rozas-de-puerto-real', 'san-agustin-del-guadalix', 'san-fernando-de-henares', 'san-lorenzo-de-el-escorial', 'san-martin-de-la-vega', 'san-martin-de-valdeiglesias', 'san-sebastian-de-los-reyes', 'santa-maria-de-la-alameda', 'santorcaz', 'santos-de-la-humosa-los', 'serna-del-monte-la', 'serranillos-del-valle', 'sevilla-la-nueva', 'somosierra', 'soto-del-real', 'talamanca-de-jarama', 'tielmes', 'titulcia', 'torrejon-de-ardoz', 'torrejon-de-la-calzada', 'torrejon-de-velasco', 'torrelaguna', 'torrelodones', 'torremocha-de-jarama', 'torres-de-la-alameda', 'tres-cantos', 'valdaracete', 'valdeavero', 'valdelaguna', 'valdemanco', 'valdemaqueda', 'valdemorillo', 'valdemoro', 'valdeolmos-alalpardo', 'valdepielagos', 'valdetorres-de-jarama', 'valdilecha', 'valverde-de-alcala', 'velilla-de-san-antonio', 'vellon-el', 'venturada', 'villaconejos', 'villa-del-prado', 'villalbilla', 'villamanrique-de-tajo', 'villamanta', 'villamantilla', 'villanueva-de-la-canada', 'villanueva-del-pardillo', 'villanueva-de-perales', 'villar-del-olmo', 'villarejo-de-salvanes', 'villaviciosa-de-odon', 'villavieja-del-lozoya', 'zarzalejo']"
   ]
  },
  {
   "cell_type": "code",
   "execution_count": 10,
   "metadata": {},
   "outputs": [
    {
     "name": "stdout",
     "output_type": "stream",
     "text": [
      "Plaza Mayor, Barrio de los Austrias, Sol, Centro, Madrid, Comunidad de Madrid, 28012, España\n"
     ]
    }
   ],
   "source": [
    "from geopy.geocoders import Nominatim\n",
    "\n",
    "# Crear un objeto geocodificador usando el servicio Nominatim (de OpenStreetMap)\n",
    "geolocator = Nominatim(user_agent=\"foursquare_agent\")\n",
    "# Geocodificar una dirección\n",
    "location = geolocator.geocode(\"Plaza Mayor, Madrid\")\n",
    "# Mostrar la latitud y longitud\n",
    "print(location)\n"
   ]
  },
  {
   "cell_type": "code",
   "execution_count": 11,
   "metadata": {},
   "outputs": [
    {
     "data": {
      "text/plain": [
       "179"
      ]
     },
     "execution_count": 11,
     "metadata": {},
     "output_type": "execute_result"
    }
   ],
   "source": [
    "#Coordenadas_municipios\n",
    "coordenadas_lista = []\n",
    "\n",
    "dicc_variables = {m : geolocator.geocode(m) for m in lista_municipios}\n",
    "len(dicc_variables)"
   ]
  },
  {
   "cell_type": "code",
   "execution_count": 12,
   "metadata": {},
   "outputs": [
    {
     "data": {
      "text/plain": [
       "179"
      ]
     },
     "execution_count": 12,
     "metadata": {},
     "output_type": "execute_result"
    }
   ],
   "source": [
    "len(dicc_variables)\n",
    "dicc_2 = {k : v[1] for k,v in dicc_variables.items()}\n",
    "len(dicc_2)\n",
    "#Parece que está todo en orden\n"
   ]
  },
  {
   "cell_type": "code",
   "execution_count": 13,
   "metadata": {},
   "outputs": [
    {
     "data": {
      "text/plain": [
       "[]"
      ]
     },
     "execution_count": 13,
     "metadata": {},
     "output_type": "execute_result"
    }
   ],
   "source": [
    "coordenadas_lista"
   ]
  },
  {
   "cell_type": "code",
   "execution_count": 18,
   "metadata": {},
   "outputs": [
    {
     "name": "stdout",
     "output_type": "stream",
     "text": [
      "{\"results\":[{\"fsq_id\":\"5bef17fc5455b2002cb084eb\",\"categories\":[{\"id\":13065,\"name\":\"Restaurant\",\"short_name\":\"Restaurant\",\"plural_name\":\"Restaurants\",\"icon\":{\"prefix\":\"https://ss3.4sqi.net/img/categories_v2/food/default_\",\"suffix\":\".png\"}}],\"chains\":[],\"closed_bucket\":\"VeryLikelyOpen\",\"distance\":2171,\"geocodes\":{\"main\":{\"latitude\":40.407214,\"longitude\":-3.902013},\"roof\":{\"latitude\":40.407214,\"longitude\":-3.902013}},\"link\":\"/v3/places/5bef17fc5455b2002cb084eb\",\"location\":{\"address\":\"Avenida Siglo Xxi, 13\",\"admin_region\":\"Comunidad de Madrid\",\"country\":\"ES\",\"cross_street\":\"\",\"formatted_address\":\"Avenida Siglo Xxi, 13, 28669 Boadilla del Monte Comunidad de Madrid\",\"locality\":\"Boadilla del Monte\",\"postcode\":\"28669\",\"region\":\"Comunidad de Madrid\"},\"name\":\"Tinglado\",\"related_places\":{},\"timezone\":\"Europe/Madrid\"},{\"fsq_id\":\"542686ff498e91924553c9d7\",\"categories\":[{\"id\":18065,\"name\":\"Sports Club\",\"short_name\":\"Sports Club\",\"plural_name\":\"Sports Clubs\",\"icon\":{\"prefix\":\"https://ss3.4sqi.net/img/categories_v2/shops/sports_outdoors_\",\"suffix\":\".png\"}}],\"chains\":[],\"closed_bucket\":\"VeryLikelyOpen\",\"distance\":2739,\"geocodes\":{\"drop_off\":{\"latitude\":40.396318,\"longitude\":-3.846432},\"main\":{\"latitude\":40.396148,\"longitude\":-3.846439},\"roof\":{\"latitude\":40.396148,\"longitude\":-3.846439}},\"link\":\"/v3/places/542686ff498e91924553c9d7\",\"location\":{\"address\":\"Calle Impresores, 10\",\"admin_region\":\"Comunidad de Madrid\",\"country\":\"ES\",\"cross_street\":\"\",\"formatted_address\":\"Calle Impresores, 10, 28660 Boadilla del Monte Comunidad de Madrid\",\"locality\":\"Boadilla del Monte\",\"postcode\":\"28660\",\"region\":\"Comunidad de Madrid\"},\"name\":\"Vita10\",\"related_places\":{\"children\":[]},\"timezone\":\"Europe/Madrid\"},{\"fsq_id\":\"4b5b445ff964a520d1ef28e3\",\"categories\":[{\"id\":13035,\"name\":\"Coffee Shop\",\"short_name\":\"Coffee Shop\",\"plural_name\":\"Coffee Shops\",\"icon\":{\"prefix\":\"https://ss3.4sqi.net/img/categories_v2/food/coffeeshop_\",\"suffix\":\".png\"}},{\"id\":13040,\"name\":\"Dessert Shop\",\"short_name\":\"Desserts\",\"plural_name\":\"Dessert Shops\",\"icon\":{\"prefix\":\"https://ss3.4sqi.net/img/categories_v2/food/dessert_\",\"suffix\":\".png\"}},{\"id\":13065,\"name\":\"Restaurant\",\"short_name\":\"Restaurant\",\"plural_name\":\"Restaurants\",\"icon\":{\"prefix\":\"https://ss3.4sqi.net/img/categories_v2/food/default_\",\"suffix\":\".png\"}}],\"chains\":[],\"closed_bucket\":\"LikelyOpen\",\"distance\":6069,\"geocodes\":{\"main\":{\"latitude\":40.458742,\"longitude\":-3.861333}},\"link\":\"/v3/places/4b5b445ff964a520d1ef28e3\",\"location\":{\"address\":\"Avenida de las Moreras, 42\",\"admin_region\":\"Comunidad de Madrid\",\"country\":\"ES\",\"cross_street\":\"C. de las Moreras, 42\",\"formatted_address\":\"Avenida de las Moreras, 42 (C. de las Moreras, 42), 28220 Majadahonda Comunidad de Madrid\",\"locality\":\"Majadahonda\",\"postcode\":\"28220\",\"region\":\"Comunidad de Madrid\"},\"name\":\"Atuel\",\"related_places\":{\"parent\":{\"fsq_id\":\"4e9de2450cd6b41aad20467f\",\"categories\":[{\"id\":17114,\"name\":\"Shopping Mall\",\"short_name\":\"Mall\",\"plural_name\":\"Shopping Malls\",\"icon\":{\"prefix\":\"https://ss3.4sqi.net/img/categories_v2/shops/mall_\",\"suffix\":\".png\"}}],\"name\":\"C.C. Cerro del Espino\"}},\"timezone\":\"Europe/Madrid\"},{\"fsq_id\":\"5652dbb4498e1308f9e71121\",\"categories\":[{\"id\":17082,\"name\":\"Furniture and Home Store\",\"short_name\":\"Furniture and Home Store\",\"plural_name\":\"Furniture and Home Stores\",\"icon\":{\"prefix\":\"https://ss3.4sqi.net/img/categories_v2/shops/furniture_\",\"suffix\":\".png\"}}],\"chains\":[],\"closed_bucket\":\"VeryLikelyOpen\",\"distance\":6297,\"geocodes\":{\"main\":{\"latitude\":40.350976,\"longitude\":-3.855492},\"roof\":{\"latitude\":40.350976,\"longitude\":-3.855492}},\"link\":\"/v3/places/5652dbb4498e1308f9e71121\",\"location\":{\"country\":\"ES\",\"cross_street\":\"\",\"formatted_address\":\"Alcorcón Comunidad de Madrid\",\"locality\":\"Alcorcón\",\"region\":\"Comunidad de Madrid\"},\"name\":\"Ikea\",\"related_places\":{\"children\":[]},\"timezone\":\"Europe/Madrid\"},{\"fsq_id\":\"555de1de498e02e9bb46890f\",\"categories\":[{\"id\":13302,\"name\":\"Mediterranean Restaurant\",\"short_name\":\"Mediterranean\",\"plural_name\":\"Mediterranean Restaurants\",\"icon\":{\"prefix\":\"https://ss3.4sqi.net/img/categories_v2/food/mediterranean_\",\"suffix\":\".png\"}},{\"id\":13347,\"name\":\"Tapas Restaurant\",\"short_name\":\"Tapas\",\"plural_name\":\"Tapas Restaurants\",\"icon\":{\"prefix\":\"https://ss3.4sqi.net/img/categories_v2/food/tapas_\",\"suffix\":\".png\"}}],\"chains\":[],\"closed_bucket\":\"VeryLikelyOpen\",\"distance\":6099,\"geocodes\":{\"drop_off\":{\"latitude\":40.459261,\"longitude\":-3.86125},\"main\":{\"latitude\":40.459017,\"longitude\":-3.861065}},\"link\":\"/v3/places/555de1de498e02e9bb46890f\",\"location\":{\"address\":\"Calle Moreras, 42\",\"admin_region\":\"Comunidad de Madrid\",\"country\":\"ES\",\"cross_street\":\"\",\"formatted_address\":\"Calle Moreras, 42, 28221 Majadahonda Comunidad de Madrid\",\"locality\":\"Majadahonda\",\"postcode\":\"28221\",\"region\":\"Comunidad de Madrid\"},\"name\":\"Panorama Oyster Bar\",\"related_places\":{},\"timezone\":\"Europe/Madrid\"},{\"fsq_id\":\"4cf7a376dc40a35d495d4e54\",\"categories\":[{\"id\":13345,\"name\":\"Spanish Restaurant\",\"short_name\":\"Spanish\",\"plural_name\":\"Spanish Restaurants\",\"icon\":{\"prefix\":\"https://ss3.4sqi.net/img/categories_v2/food/spanish_\",\"suffix\":\".png\"}}],\"chains\":[],\"closed_bucket\":\"LikelyOpen\",\"distance\":6090,\"geocodes\":{\"drop_off\":{\"latitude\":40.419816,\"longitude\":-3.806963},\"main\":{\"latitude\":40.420093,\"longitude\":-3.807132},\"roof\":{\"latitude\":40.420093,\"longitude\":-3.807132}},\"link\":\"/v3/places/4cf7a376dc40a35d495d4e54\",\"location\":{\"address\":\"Paseo del Club Deportivo, 1\",\"admin_region\":\"Comunidad de Madrid\",\"country\":\"ES\",\"formatted_address\":\"Paseo del Club Deportivo, 1, 28223 Pozuelo de Alarcón Comunidad de Madrid\",\"locality\":\"Pozuelo de Alarcón\",\"postcode\":\"28223\",\"region\":\"Comunidad de Madrid\"},\"name\":\"Reebok Sport Club Restaurant\",\"related_places\":{},\"timezone\":\"Europe/Madrid\"},{\"fsq_id\":\"4b59aecdf964a520949228e3\",\"categories\":[{\"id\":13302,\"name\":\"Mediterranean Restaurant\",\"short_name\":\"Mediterranean\",\"plural_name\":\"Mediterranean Restaurants\",\"icon\":{\"prefix\":\"https://ss3.4sqi.net/img/categories_v2/food/mediterranean_\",\"suffix\":\".png\"}},{\"id\":13347,\"name\":\"Tapas Restaurant\",\"short_name\":\"Tapas\",\"plural_name\":\"Tapas Restaurants\",\"icon\":{\"prefix\":\"https://ss3.4sqi.net/img/categories_v2/food/tapas_\",\"suffix\":\".png\"}}],\"chains\":[],\"closed_bucket\":\"VeryLikelyOpen\",\"distance\":6905,\"geocodes\":{\"main\":{\"latitude\":40.419474,\"longitude\":-3.796898},\"roof\":{\"latitude\":40.419474,\"longitude\":-3.796898}},\"link\":\"/v3/places/4b59aecdf964a520949228e3\",\"location\":{\"address\":\"Calle Barlovento, 1\",\"admin_region\":\"Comunidad de Madrid\",\"country\":\"ES\",\"formatted_address\":\"Calle Barlovento, 1, 28223 Pozuelo de Alarcón Comunidad de Madrid\",\"locality\":\"Somosaguas\",\"postcode\":\"28223\",\"region\":\"Comunidad de Madrid\"},\"name\":\"Urrechu\",\"related_places\":{\"parent\":{\"fsq_id\":\"4ccc00b497d0224bc4e15cb8\",\"categories\":[{\"id\":17114,\"name\":\"Shopping Mall\",\"short_name\":\"Mall\",\"plural_name\":\"Shopping Malls\",\"icon\":{\"prefix\":\"https://ss3.4sqi.net/img/categories_v2/shops/mall_\",\"suffix\":\".png\"}}],\"name\":\"Zoco de Pozuelo\"}},\"timezone\":\"Europe/Madrid\"},{\"fsq_id\":\"4ca9cac1b7106dcbb29f7fa5\",\"categories\":[{\"id\":13031,\"name\":\"Burger Joint\",\"short_name\":\"Burgers\",\"plural_name\":\"Burger Joints\",\"icon\":{\"prefix\":\"https://ss3.4sqi.net/img/categories_v2/food/burger_\",\"suffix\":\".png\"}},{\"id\":13068,\"name\":\"American Restaurant\",\"short_name\":\"American\",\"plural_name\":\"American Restaurants\",\"icon\":{\"prefix\":\"https://ss3.4sqi.net/img/categories_v2/food/default_\",\"suffix\":\".png\"}}],\"chains\":[],\"closed_bucket\":\"LikelyOpen\",\"distance\":6860,\"geocodes\":{\"main\":{\"latitude\":40.419617,\"longitude\":-3.797527},\"roof\":{\"latitude\":40.419617,\"longitude\":-3.797527}},\"link\":\"/v3/places/4ca9cac1b7106dcbb29f7fa5\",\"location\":{\"address\":\"Calle Barlovento, 1\",\"admin_region\":\"Comunidad de Madrid\",\"country\":\"ES\",\"cross_street\":\"\",\"formatted_address\":\"Calle Barlovento, 1, 28223 Pozuelo de Alarcón Comunidad de Madrid\",\"locality\":\"Pozuelo de Alarcón\",\"postcode\":\"28223\",\"region\":\"Comunidad de Madrid\"},\"name\":\"Gancho y Directo\",\"related_places\":{},\"timezone\":\"Europe/Madrid\"},{\"fsq_id\":\"4adcda3cf964a520b93d21e3\",\"categories\":[{\"id\":10024,\"name\":\"Movie Theater\",\"short_name\":\"Movie Theater\",\"plural_name\":\"Movie Theaters\",\"icon\":{\"prefix\":\"https://ss3.4sqi.net/img/categories_v2/arts_entertainment/movietheater_\",\"suffix\":\".png\"}}],\"chains\":[],\"closed_bucket\":\"VeryLikelyOpen\",\"distance\":6883,\"geocodes\":{\"main\":{\"latitude\":40.393943,\"longitude\":-3.796518},\"roof\":{\"latitude\":40.393943,\"longitude\":-3.796518}},\"link\":\"/v3/places/4adcda3cf964a520b93d21e3\",\"location\":{\"address\":\"Calle Edgar Neville, s/n\",\"admin_region\":\"Comunidad de Madrid\",\"country\":\"ES\",\"cross_street\":\"C. Edgar Neville\",\"formatted_address\":\"Calle Edgar Neville, s/n (C. Edgar Neville), 28223 Pozuelo de Alarcón Comunidad de Madrid\",\"locality\":\"Pozuelo de Alarcón\",\"postcode\":\"28223\",\"region\":\"Comunidad de Madrid\"},\"name\":\"Kinépolis\",\"related_places\":{\"children\":[{\"fsq_id\":\"5db3558cb8b17e0008515667\",\"categories\":[{\"id\":13303,\"name\":\"Mexican Restaurant\",\"short_name\":\"Mexican\",\"plural_name\":\"Mexican Restaurants\",\"icon\":{\"prefix\":\"https://ss3.4sqi.net/img/categories_v2/food/mexican_\",\"suffix\":\".png\"}}],\"name\":\"La Chelinda\"},{\"fsq_id\":\"5e20ae08e7117a0008204dcc\",\"categories\":[{\"id\":13006,\"name\":\"Beer Bar\",\"short_name\":\"Beer Bar\",\"plural_name\":\"Beer Bars\",\"icon\":{\"prefix\":\"https://ss3.4sqi.net/img/categories_v2/nightlife/pub_\",\"suffix\":\".png\"}},{\"id\":13065,\"name\":\"Restaurant\",\"short_name\":\"Restaurant\",\"plural_name\":\"Restaurants\",\"icon\":{\"prefix\":\"https://ss3.4sqi.net/img/categories_v2/food/default_\",\"suffix\":\".png\"}}],\"name\":\"Beerverly Hills\"}]},\"timezone\":\"Europe/Madrid\"},{\"fsq_id\":\"4e8b3643b803fd0aa0968566\",\"categories\":[{\"id\":13003,\"name\":\"Bar\",\"short_name\":\"Bar\",\"plural_name\":\"Bars\",\"icon\":{\"prefix\":\"https://ss3.4sqi.net/img/categories_v2/nightlife/pub_\",\"suffix\":\".png\"}},{\"id\":13065,\"name\":\"Restaurant\",\"short_name\":\"Restaurant\",\"plural_name\":\"Restaurants\",\"icon\":{\"prefix\":\"https://ss3.4sqi.net/img/categories_v2/food/default_\",\"suffix\":\".png\"}}],\"chains\":[],\"closed_bucket\":\"LikelyOpen\",\"distance\":8245,\"geocodes\":{\"drop_off\":{\"latitude\":40.439856,\"longitude\":-3.78997},\"main\":{\"latitude\":40.440005,\"longitude\":-3.790032},\"roof\":{\"latitude\":40.440005,\"longitude\":-3.790032}},\"link\":\"/v3/places/4e8b3643b803fd0aa0968566\",\"location\":{\"address\":\"Avenida Europa, 15\",\"admin_region\":\"Comunidad de Madrid\",\"country\":\"ES\",\"cross_street\":\"\",\"formatted_address\":\"Avenida Europa, 15, 28224 Pozuelo de Alarcón Comunidad de Madrid\",\"locality\":\"Pozuelo de Alarcón\",\"postcode\":\"28224\",\"region\":\"Comunidad de Madrid\"},\"name\":\"Taberna Entretres\",\"related_places\":{},\"timezone\":\"Europe/Madrid\"}],\"context\":{\"geo_bounds\":{\"circle\":{\"center\":{\"latitude\":40.4053485,\"longitude\":-3.8764663},\"radius\":22000}}}}\n"
     ]
    }
   ],
   "source": [
    "import requests\n",
    "key = \"fsq3LwWmuT4L0xwPVrjoWFeX4U9j7yo1ZorkURg7uGYveqw=\"\n",
    "\n",
    "url = f\"https://api.foursquare.com/v3/places/search?query=&ll=40.4053485,-3.8764663&query=pizza&radius=500\"\n",
    "\n",
    "headers = {\n",
    "    \"accept\": \"application/json\",\n",
    "    \"Authorization\": \"fsq3BfSbKz1kBy8ueuO95hHhsrhwqyN8zHnUPNSKnNqHqEs=\"\n",
    "}\n",
    "\n",
    "response = requests.get(url, headers=headers)\n",
    "print(response.text)"
   ]
  },
  {
   "cell_type": "code",
   "execution_count": 15,
   "metadata": {},
   "outputs": [
    {
     "data": {
      "text/plain": [
       "{'acebeda-la': (41.0869583, -3.624399),\n",
       " 'ajalvir': (40.5342302, -3.4807818),\n",
       " 'alameda-del-valle': (40.9177178, -3.8438216),\n",
       " 'alamo-el': (40.2307296, -3.9905893),\n",
       " 'alcala-de-henares': (40.4818396, -3.3644973),\n",
       " 'alcobendas': (40.5400082, -3.6358494),\n",
       " 'alcorcon': (40.3492998, -3.8284295),\n",
       " 'aldea-del-fresno': (40.3215212, -4.19936),\n",
       " 'algete': (40.5961652, -3.4974246),\n",
       " 'alpedrete': (40.6599005, -4.0251223),\n",
       " 'ambite': (40.3289723, -3.1812115),\n",
       " 'anchuelo': (40.4653862, -3.2689196),\n",
       " 'aranjuez': (40.03221, -3.6039604),\n",
       " 'arganda-del-rey': (40.3007708, -3.4380688),\n",
       " 'arroyomolinos': (39.1855991, -6.1630632),\n",
       " 'atazar-el': (40.9343489, -3.4710919),\n",
       " 'batres': (40.2091393, -3.9215947),\n",
       " 'becerril-de-la-sierra': (40.7163374, -3.9890681),\n",
       " 'belmonte-de-tajo': (40.1336305, -3.3398654),\n",
       " 'berrueco-el': (40.8889705, -3.5614344),\n",
       " 'berzosa-del-lozoya': (40.9757802, -3.5236736),\n",
       " 'boadilla-del-monte': (40.4053485, -3.8764663),\n",
       " 'boalo-el': (40.7173359, -3.9202198),\n",
       " 'braojos': (41.0400124, -3.6425888),\n",
       " 'brea-de-tajo': (40.2302134, -3.1092543),\n",
       " 'brunete': (40.4050499, -3.9979912),\n",
       " 'buitrago-del-lozoya': (40.9953477, -3.6350501),\n",
       " 'bustarviejo': (40.8587766, -3.7097632),\n",
       " 'cabanillas-de-la-sierra': (40.8216089, -3.6259742),\n",
       " 'cabrera-la': (13.3472446, 144.7586507),\n",
       " 'cadalso-de-los-vidrios': (40.3014283, -4.4408876),\n",
       " 'camarma-de-esteruelas': (40.5490368, -3.3786211),\n",
       " 'campo-real': (40.3381881, -3.3813911),\n",
       " 'canencia': (40.9095894, -3.7375609),\n",
       " 'carabana': (40.256626, -3.2347206),\n",
       " 'casarrubuelos': (40.1707803, -3.8308526),\n",
       " 'cenicientos': (40.2631894, -4.4669801),\n",
       " 'cercedilla': (40.7412931, -4.0558002),\n",
       " 'cervera-de-buitrago': (40.9211319, -3.5293404),\n",
       " 'chapineria': (40.379164, -4.2097254),\n",
       " 'chinchon': (40.1408293, -3.4231474),\n",
       " 'ciempozuelos': (40.1580087, -3.6205514),\n",
       " 'cobena': (40.5676083, -3.5048565),\n",
       " 'collado-mediano': (40.6943707, -4.0247212),\n",
       " 'collado-villalba': (40.6431496, -3.9930128),\n",
       " 'colmenar-del-arroyo': (40.4179997, -4.1972768),\n",
       " 'colmenar-de-oreja': (40.1074198, -3.3871634),\n",
       " 'colmenarejo': (40.5607257, -4.0165248),\n",
       " 'colmenar-viejo': (40.6587726, -3.7659722),\n",
       " 'corpa': (40.4235374, -3.2652482),\n",
       " 'coslada': (40.423802, -3.5552882),\n",
       " 'cubas-de-la-sagra': (40.1908352, -3.8378366),\n",
       " 'daganzo-de-arriba': (40.5451953, -3.45785),\n",
       " 'escorial-el': (40.5890661, -4.147394873409854),\n",
       " 'estremera': (40.1847306, -3.1062403),\n",
       " 'fresnedillas-de-la-oliva': (40.486444, -4.1723486),\n",
       " 'fresno-de-torote': (40.5922684, -3.4119681),\n",
       " 'fuenlabrada': (40.282476, -3.7923422),\n",
       " 'fuente-el-saz-de-jarama': (40.6312151, -3.5125918),\n",
       " 'fuentiduena-de-tajo': (40.1185446, -3.160254),\n",
       " 'galapagar': (40.5774992, -4.0037748),\n",
       " 'garganta-de-los-montes': (40.9216084, -3.6866546),\n",
       " 'gargantilla-del-lozoya-y-pinilla-de-buitrago': (40.96551504999999,\n",
       "  -3.7077907634147276),\n",
       " 'gascones': (41.0185654, -3.641499),\n",
       " 'getafe': (40.3070639, -3.7331808),\n",
       " 'grinon': (40.2136607, -3.8581479),\n",
       " 'guadalix-de-la-sierra': (40.7822384, -3.7007794),\n",
       " 'guadarrama': (40.6734454, -4.0893911),\n",
       " 'hiruela-la': (41.0779223, -3.4552928),\n",
       " 'horcajo-de-la-sierra-aoslos': (41.078683, -3.583901523172418),\n",
       " 'horcajuelo-de-la-sierra': (41.0601151, -3.5457391),\n",
       " 'hoyo-de-manzanares': (40.6227334, -3.9072054),\n",
       " 'humanes-de-madrid': (40.2508847, -3.8270997),\n",
       " 'leganes': (10.785528, 122.5888137),\n",
       " 'loeches': (40.3837901, -3.4092281),\n",
       " 'lozoya': (40.9513281, -3.7917078),\n",
       " 'lozoyuela-navas-sieteiglesias': (40.9263383, -3.6176377),\n",
       " 'madarcos': (41.0477311, -3.5821549),\n",
       " 'madrid': (40.4167047, -3.7035825),\n",
       " 'majadahonda': (40.473055, -3.8724138),\n",
       " 'manzanares-el-real': (40.7267632, -3.864981),\n",
       " 'meco': (40.553746, -3.3281561),\n",
       " 'mejorada-del-campo': (40.3971785, -3.4896068),\n",
       " 'miraflores-de-la-sierra': (40.8137532, -3.7667236),\n",
       " 'molar-el': (40.7347865, -3.584376),\n",
       " 'molinos-los': (4.55, -74.1166667),\n",
       " 'montejo-de-la-sierra': (41.0593529, -3.530299),\n",
       " 'moraleja-de-enmedio': (40.2615532, -3.8612117),\n",
       " 'moralzarzal': (40.6791436, -3.9720985),\n",
       " 'morata-de-tajuna': (40.2294297, -3.4366925),\n",
       " 'mostoles': (40.3238525, -3.8649214),\n",
       " 'navacerrada': (40.7287926, -4.0151676),\n",
       " 'navalafuente': (40.8232617, -3.6747292),\n",
       " 'navalagamella': (40.4690591, -4.1227079),\n",
       " 'navalcarnero': (40.2877169, -4.014299),\n",
       " 'navarredonda-y-san-mames': (41.00736645, -3.7315049706950285),\n",
       " 'navas-del-rey': (40.3863666, -4.2508402),\n",
       " 'nuevo-baztan': (40.3659255, -3.2443102),\n",
       " 'olmeda-de-las-fuentes': (40.3695225, -3.2213199),\n",
       " 'orusco-de-tajuna': (40.2853409, -3.2096521),\n",
       " 'paracuellos-de-jarama': (40.5048527, -3.5317621),\n",
       " 'parla': (40.2373952, -3.7718902),\n",
       " 'patones': (40.8548194, -3.483954),\n",
       " 'pedrezuela': (40.7451088, -3.6030185),\n",
       " 'pelayos-de-la-presa': (40.3605272, -4.3334254),\n",
       " 'perales-de-tajuna': (40.2325718, -3.3517265),\n",
       " 'pezuela-de-las-torres': (40.4186483, -3.1778029),\n",
       " 'pinilla-del-valle': (40.9261949, -3.8184676),\n",
       " 'pinto': (40.240985, -3.7005072),\n",
       " 'pinuecar-gandullas': (41.03554635, -3.599475586218161),\n",
       " 'pozuelo-de-alarcon': (40.4346528, -3.814834),\n",
       " 'pozuelo-del-rey': (40.3664055, -3.3200082),\n",
       " 'pradena-del-rincon': (41.0443369, -3.5402284),\n",
       " 'puebla-de-la-sierra': (41.0121247, -3.4444367),\n",
       " 'puentes-viejas-manjiron': (40.9654041, -3.5828764),\n",
       " 'quijorna': (40.4290833, -4.0565378),\n",
       " 'rascafria': (40.9038871, -3.8802853),\n",
       " 'reduena': (40.8158054, -3.6039309),\n",
       " 'ribatejada': (40.6664949, -3.3919178),\n",
       " 'rivas-vaciamadrid': (40.3536054, -3.5310879),\n",
       " 'robledillo-de-la-jara': (40.9529148, -3.5250504),\n",
       " 'robledo-de-chavela': (40.5009201, -4.2380999),\n",
       " 'robregordo': (41.1064517, -3.5937466),\n",
       " 'rozas-de-madrid-las': (40.4933095, -3.8758396),\n",
       " 'rozas-de-puerto-real': (40.3098351, -4.4912111),\n",
       " 'san-agustin-del-guadalix': (40.679051, -3.6166004),\n",
       " 'san-fernando-de-henares': (40.4248548, -3.5350369),\n",
       " 'san-lorenzo-de-el-escorial': (40.5926673, -4.1471642),\n",
       " 'san-martin-de-la-vega': (40.2110462, -3.5771806),\n",
       " 'san-martin-de-valdeiglesias': (40.3625, -4.3986503),\n",
       " 'san-sebastian-de-los-reyes': (40.5473698, -3.6260586),\n",
       " 'santa-maria-de-la-alameda': (40.5958248, -4.2579208),\n",
       " 'santorcaz': (40.4715789, -3.2335594),\n",
       " 'santos-de-la-humosa-los': (40.5012957, -3.2566803),\n",
       " 'serna-del-monte-la': (41.0305793, -3.6252636),\n",
       " 'serranillos-del-valle': (40.2044509, -3.8851988),\n",
       " 'sevilla-la-nueva': (40.3475422, -4.0275268),\n",
       " 'somosierra': (41.133207, -3.581478),\n",
       " 'soto-del-real': (40.7534432, -3.7866573),\n",
       " 'talamanca-de-jarama': (40.7454625, -3.5127366),\n",
       " 'tielmes': (40.2465011, -3.3136206),\n",
       " 'titulcia': (40.1379148, -3.5709978),\n",
       " 'torrejon-de-ardoz': (40.4587767, -3.4793343),\n",
       " 'torrejon-de-la-calzada': (40.2006804, -3.7993298),\n",
       " 'torrejon-de-velasco': (40.1869283, -3.7769069),\n",
       " 'torrelaguna': (40.8277273, -3.538293),\n",
       " 'torrelodones': (40.5762809, -3.928603),\n",
       " 'torremocha-de-jarama': (40.8358114, -3.4966866),\n",
       " 'torres-de-la-alameda': (40.4021516, -3.360625),\n",
       " 'tres-cantos': (40.6065826, -3.7065333),\n",
       " 'valdaracete': (40.2107697, -3.1954758),\n",
       " 'valdeavero': (40.6309749, -3.3329368),\n",
       " 'valdelaguna': (40.1605777, -3.367827),\n",
       " 'valdemanco': (40.8736636, -3.6636949),\n",
       " 'valdemaqueda': (40.5110297, -4.2977731),\n",
       " 'valdemorillo': (40.5016772, -4.0688878),\n",
       " 'valdemoro': (40.1888604, -3.67143),\n",
       " 'valdeolmos-alalpardo': (40.6385429, -3.4532436),\n",
       " 'valdepielagos': (40.7610144, -3.4656251),\n",
       " 'valdetorres-de-jarama': (40.6956481, -3.5146559),\n",
       " 'valdilecha': (40.2926854, -3.3002096),\n",
       " 'valverde-de-alcala': (40.4180359, -3.2996775),\n",
       " 'velilla-de-san-antonio': (40.367166, -3.4874435),\n",
       " 'vellon-el': (40.7677965, -3.5820099),\n",
       " 'venturada': (40.7985257, -3.6207369),\n",
       " 'villaconejos': (40.1040079, -3.4850284),\n",
       " 'villa-del-prado': (40.2764752, -4.3048032),\n",
       " 'villalbilla': (40.4323665, -3.2987815),\n",
       " 'villamanrique-de-tajo': (40.0686973, -3.240078),\n",
       " 'villamanta': (40.2990939, -4.1090399),\n",
       " 'villamantilla': (40.3421033, -4.1300303),\n",
       " 'villanueva-de-la-canada': (40.4472106, -4.002795),\n",
       " 'villanueva-del-pardillo': (40.4949232, -3.9600065),\n",
       " 'villanueva-de-perales': (40.3466066, -4.1012616),\n",
       " 'villar-del-olmo': (40.3364465, -3.2355624),\n",
       " 'villarejo-de-salvanes': (40.1683582, -3.2738764),\n",
       " 'villaviciosa-de-odon': (40.3573787, -3.9002334),\n",
       " 'villavieja-del-lozoya': (41.0063622, -3.6716291),\n",
       " 'zarzalejo': (40.5392812, -4.1624845)}"
      ]
     },
     "execution_count": 15,
     "metadata": {},
     "output_type": "execute_result"
    }
   ],
   "source": [
    "dicc_2"
   ]
  }
 ],
 "metadata": {
  "kernelspec": {
   "display_name": "base",
   "language": "python",
   "name": "python3"
  },
  "language_info": {
   "codemirror_mode": {
    "name": "ipython",
    "version": 3
   },
   "file_extension": ".py",
   "mimetype": "text/x-python",
   "name": "python",
   "nbconvert_exporter": "python",
   "pygments_lexer": "ipython3",
   "version": "3.11.7"
  }
 },
 "nbformat": 4,
 "nbformat_minor": 2
}
